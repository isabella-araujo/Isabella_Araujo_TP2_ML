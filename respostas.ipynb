{
 "cells": [
  {
   "cell_type": "markdown",
   "id": "29c0533f",
   "metadata": {},
   "source": [
    "### Diferença entre regressão e classificação\n",
    "\n",
    "Um modelo de classificação tem como objetivo classificar os dados em duas ou mais classes, enquanto um modelo de regressão busca prever um valor numérico com base nos outros atributos."
   ]
  },
  {
   "cell_type": "markdown",
   "id": "25e9d93a",
   "metadata": {},
   "source": [
    "### Quando aplicar regressão ou classificação\n",
    "\n",
    "Caso o objetivo seja separar as amostras em grupos, o ideal é o modelo de classificação. Exemplo: separar mensagens em categorias de 'spam' e 'não é spam'. \n",
    "\n",
    "Mas caso o objetivo seja prever um valor númerico, o modelo de regressão é o mais adequado. Exemplo: prever a altura de uma pessoa baseada em seu peso."
   ]
  }
 ],
 "metadata": {
  "language_info": {
   "name": "python"
  }
 },
 "nbformat": 4,
 "nbformat_minor": 5
}
